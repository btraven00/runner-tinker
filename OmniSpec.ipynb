{
 "cells": [
  {
   "cell_type": "markdown",
   "id": "1552a8ed-d614-4cf1-95c3-e2e56af6c3d4",
   "metadata": {},
   "source": [
    "# Code Exploration"
   ]
  },
  {
   "cell_type": "code",
   "execution_count": 1,
   "id": "bea61cbf-9146-480e-83ad-abc51eb4a301",
   "metadata": {},
   "outputs": [
    {
     "name": "stdout",
     "output_type": "stream",
     "text": [
      "Requirement already satisfied: owlready in /home/admin/.local/share/virtualenvs/runner-tinker-BrjiHMN7/lib/python3.11/site-packages (from -r requirements.txt (line 1)) (0.3.1)\n",
      "Requirement already satisfied: attrs in /home/admin/.local/share/virtualenvs/runner-tinker-BrjiHMN7/lib/python3.11/site-packages (from -r requirements.txt (line 2)) (23.1.0)\n",
      "Requirement already satisfied: networkx in /home/admin/.local/share/virtualenvs/runner-tinker-BrjiHMN7/lib/python3.11/site-packages (from -r requirements.txt (line 3)) (3.2.1)\n",
      "Requirement already satisfied: pyyaml in /home/admin/.local/share/virtualenvs/runner-tinker-BrjiHMN7/lib/python3.11/site-packages (from -r requirements.txt (line 4)) (6.0.1)\n"
     ]
    }
   ],
   "source": [
    "# let's make sure requirements are up to date\n",
    "!pip install -r requirements.txt\n"
   ]
  },
  {
   "cell_type": "code",
   "execution_count": 2,
   "id": "cdf87543-6168-489e-9f22-6765f37316d1",
   "metadata": {},
   "outputs": [],
   "source": [
    "from omni import Benchmark"
   ]
  },
  {
   "cell_type": "code",
   "execution_count": 3,
   "id": "62b37001-436e-4c4f-9103-36c974c6cda2",
   "metadata": {},
   "outputs": [
    {
     "name": "stdout",
     "output_type": "stream",
     "text": [
      "TestBenchmark\n"
     ]
    }
   ],
   "source": [
    "i = Benchmark(name=\"TestBenchmark\")\n",
    "print(i.name)"
   ]
  },
  {
   "cell_type": "markdown",
   "id": "1842c8ae-fcb8-466e-9e5e-153c028119cb",
   "metadata": {},
   "source": [
    "# Benchmark Definition\n",
    "Let's use the infamous Iris Benchmark for reference. This is just a particular topology for a Benchmark. We define it in `iris-benchmark.yaml`. Do note that the orchestrator `.gitlab-ci.yaml` can be dynamically generated from only the info contained here.\n"
   ]
  },
  {
   "cell_type": "code",
   "execution_count": 6,
   "id": "07493136-8966-472a-9064-162141e41129",
   "metadata": {},
   "outputs": [
    {
     "data": {
      "image/png": "[encoded data removed]",
      "text/plain": [
       "<Figure size 640x480 with 1 Axes>"
      ]
     },
     "metadata": {},
     "output_type": "display_data"
    }
   ],
   "source": [
    "BENCHMARK_FILE='iris-benchmark.yaml'\n",
    "\n",
    "from bench import build_dag_from_definition, plot_graph\n",
    "\n",
    "g = build_dag_from_definition(BENCHMARK_FILE)\n",
    "plot_graph(g)\n"
   ]
  },
  {
   "cell_type": "markdown",
   "id": "3031618e-1749-4f70-ba0d-3e75bad2cf7f",
   "metadata": {},
   "source": [
    "Ok, now let's try to build a state machine to know when can we proceed to the next step..."
   ]
  },
  {
   "cell_type": "code",
   "execution_count": 203,
   "id": "5a1e416d-0797-4bd3-aab2-9b9439b524be",
   "metadata": {},
   "outputs": [
    {
     "name": "stdout",
     "output_type": "stream",
     "text": [
      "current: data\n",
      "check: parameters\n",
      "exited: data\n",
      "entered: parameters\n",
      "check: methods\n",
      "check: methods\n",
      "exited: parameters\n",
      "entered: methods\n",
      "check: metrics\n",
      "exited: methods\n",
      "entered: metrics\n",
      "check: summary\n",
      "exited: metrics\n",
      "entered: summary\n"
     ]
    }
   ],
   "source": [
    "from transitions import Machine, EventData\n",
    "from functools import partial\n",
    "\n",
    "class StateMachine:\n",
    "    done = set([])\n",
    "    \n",
    "    def done_state(self, state):\n",
    "        \"\"\"\n",
    "        done_state marks a state done from the outside\n",
    "        \"\"\"\n",
    "        self.done.add(state)\n",
    "    \n",
    "    @classmethod\n",
    "    def on_exit_state(self, event: EventData):\n",
    "        \"\"\"\n",
    "        on_exit_state is used on internal transitions\n",
    "        \"\"\"\n",
    "        exited = event.transition.source\n",
    "        print(f\"exited: {exited}\")\n",
    "        self.done.add(exited)\n",
    "\n",
    "    @classmethod\n",
    "    def on_enter_state(self, event: EventData):\n",
    "        print(f\"entered: {event.state._name}\")\n",
    "\n",
    "\n",
    "    def check_condition_for(graph, dest, event):\n",
    "        print(f\"check: {event.transition.dest}\")\n",
    "        conditions = set(list(graph.predecessors(dest)))\n",
    "        if len(conditions) == 1:\n",
    "            # a node with a single predecessor can only advance to a single state\n",
    "            return True\n",
    "        current = event.state._name\n",
    "        can_transition = set(event.model.done).union(set([current])).intersection(conditions) == set(conditions)\n",
    "        return can_transition\n",
    "\n",
    "\n",
    "states = [{'name': node, 'on_exit': 'on_exit_state', 'on_enter': 'on_enter_state'} for node in g.nodes()]\n",
    "\n",
    "# TODO: initial should be parsed from the yaml data tree (terminal too, this is validation)\n",
    "machine = Machine(model=StateMachine, states=states, initial=\"data\", send_event=True)\n",
    "\n",
    "# Generate transitions based on DAG edges\n",
    "for edge in g.edges:\n",
    "    trigger_name = f'{edge[0]}_to_{edge[1]}'\n",
    "    #print(trigger_name)\n",
    "    transition = {'trigger': trigger_name, 'source': edge[0], 'dest': edge[1],\n",
    "                  'conditions': partial(StateMachine.check_condition_for, g, edge[1])}\n",
    "    machine.add_transition(**transition)\n",
    "\n",
    "sm = StateMachine()\n",
    "\n",
    "print(\"current:\", sm.state)\n",
    "sm.data_to_parameters()\n",
    "assert(sm.state == \"parameters\")\n",
    "sm.parameters_to_methods()\n",
    "assert(sm.state == \"parameters\")\n",
    "sm.done_state('process')\n",
    "sm.parameters_to_methods()\n",
    "assert(sm.state == \"methods\")\n",
    "sm.methods_to_metrics()\n",
    "assert(sm.state == \"metrics\")\n",
    "sm.metrics_to_summary()\n",
    "assert(sm.state == \"summary\")\n"
   ]
  },
  {
   "cell_type": "code",
   "execution_count": null,
   "id": "99e28eb6-eaf5-4bdf-88a6-6acf3720735f",
   "metadata": {},
   "outputs": [],
   "source": []
  }
 ],
 "metadata": {
  "kernelspec": {
   "display_name": "Python 3 (ipykernel)",
   "language": "python",
   "name": "python3"
  },
  "language_info": {
   "codemirror_mode": {
    "name": "ipython",
    "version": 3
   },
   "file_extension": ".py",
   "mimetype": "text/x-python",
   "name": "python",
   "nbconvert_exporter": "python",
   "pygments_lexer": "ipython3",
   "version": "3.11.6"
  }
 },
 "nbformat": 4,
 "nbformat_minor": 5
}
