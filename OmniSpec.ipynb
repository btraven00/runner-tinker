{
 "cells": [
  {
   "cell_type": "markdown",
   "id": "1552a8ed-d614-4cf1-95c3-e2e56af6c3d4",
   "metadata": {},
   "source": [
    "# Code Exploration"
   ]
  },
  {
   "cell_type": "code",
   "execution_count": 1,
   "id": "bea61cbf-9146-480e-83ad-abc51eb4a301",
   "metadata": {},
   "outputs": [
    {
     "name": "stdout",
     "output_type": "stream",
     "text": [
      "Requirement already satisfied: owlready in /home/admin/.local/share/virtualenvs/runner-tinker-BrjiHMN7/lib/python3.11/site-packages (from -r requirements.txt (line 1)) (0.3.1)\n",
      "Requirement already satisfied: attrs in /home/admin/.local/share/virtualenvs/runner-tinker-BrjiHMN7/lib/python3.11/site-packages (from -r requirements.txt (line 2)) (23.1.0)\n",
      "Requirement already satisfied: networkx in /home/admin/.local/share/virtualenvs/runner-tinker-BrjiHMN7/lib/python3.11/site-packages (from -r requirements.txt (line 3)) (3.2.1)\n",
      "Requirement already satisfied: pyyaml in /home/admin/.local/share/virtualenvs/runner-tinker-BrjiHMN7/lib/python3.11/site-packages (from -r requirements.txt (line 4)) (6.0.1)\n"
     ]
    }
   ],
   "source": [
    "# let's make sure requirements are up to date\n",
    "!pip install -r requirements.txt\n"
   ]
  },
  {
   "cell_type": "code",
   "execution_count": 7,
   "id": "cdf87543-6168-489e-9f22-6765f37316d1",
   "metadata": {},
   "outputs": [],
   "source": [
    "# just an empty shell for now. my plan is to declare a utility class that can load stages and modules via a data constructor\n",
    "# - and use ontology and reasoning to query the Knowledge Graph. Little by little...\n",
    "from omni import Benchmark"
   ]
  },
  {
   "cell_type": "code",
   "execution_count": 3,
   "id": "62b37001-436e-4c4f-9103-36c974c6cda2",
   "metadata": {},
   "outputs": [
    {
     "name": "stdout",
     "output_type": "stream",
     "text": [
      "Iris\n"
     ]
    }
   ],
   "source": [
    "i = Benchmark(name=\"Iris\")\n",
    "print(i.name)"
   ]
  },
  {
   "cell_type": "markdown",
   "id": "1842c8ae-fcb8-466e-9e5e-153c028119cb",
   "metadata": {},
   "source": [
    "# Benchmark Definition\n",
    "Let's use the infamous Iris Benchmark for reference. This is just a particular topology for a Benchmark. We define it in `iris-benchmark.yaml`. Do note that the orchestrator `.gitlab-ci.yaml` can be dynamically generated from only the info contained here.\n",
    "\n",
    "According to the plan, I'd like to have a declarative way (and a truly generic and flexible way) of declaring stages in a benchmark. This will give us, in time, the ability to control a `CompositePlan` with dynamic membership.\n",
    "\n",
    "## Benchmark Definition File\n",
    "\n",
    "This is a first proposal of how the benchmark definition file might look like:\n",
    "\n",
    "```yaml\n",
    "# name is the short orchestrator name\n",
    "name: iris\n",
    "\n",
    "# description is a longer description that we can display in the dashboard\n",
    "description: simple benchmark demo with the iris dataset\n",
    "\n",
    "# platform is the base url where to lookup relative project URIs\n",
    "# in principle, this should be platform agnostic (by using a FQDN in the repo keyword)\n",
    "platform: https://gitlab.renkulab.io/\n",
    "\n",
    "# orchestrator is the orchestrator module. This benchmark definition should live there\n",
    "# note that there can be only one orchestrator per benchmark.\n",
    "orchestrator:\n",
    "  name: iris-orchestrator\n",
    "  url: https://gitlab.renkulab.io/omnibenchmark/iris_example/iris-orchestrator\n",
    "\n",
    "steps:\n",
    "  data:\n",
    "    initial: true\n",
    "    members:\n",
    "      # what does it mean to provide more than one dataset? \n",
    "      # can a method choose to use any one of them? does it have to use all?\n",
    "      - name: ref\n",
    "        repo: omnibenchmark/iris_example/iris-dataset\n",
    "\n",
    "      - name: noisy\n",
    "        repo: omnibenchmark/iris_example/iris-noisy\n",
    "\n",
    "  process:\n",
    "    after:\n",
    "      - data\n",
    "\n",
    "    members:\n",
    "      - name: filter\n",
    "        repo: omnibenchmark/iris_example/iris-filter\n",
    "      # which method brings this? this is something methods can decide to depend on?\n",
    "      # can methods announce/register processing steps?\n",
    "\n",
    "  parameters:\n",
    "    after:\n",
    "      - data\n",
    "\n",
    "    members:\n",
    "      - name: params\n",
    "        repo: omnibenchmark/iris_example/iris-parameters\n",
    "\n",
    "  methods:\n",
    "    after:\n",
    "      - process\n",
    "      - parameters\n",
    "\n",
    "    members:\n",
    "      - name: random forest\n",
    "        repo: benchmark/iris_example/iris-random-forest\n",
    "\n",
    "      - name: lda\n",
    "        repo: omnibenchmark/iris_example/iris-lda\n",
    "\n",
    "  metrics:\n",
    "    after:\n",
    "      - methods\n",
    "\n",
    "    members:\n",
    "      - name: accuracy\n",
    "        repo: omnibenchmark/iris_example/iris-accuracy\n",
    "\n",
    "      - name: accuracy_pval\n",
    "        repo: omnibenchmark/iris_example/iris-accuracy-pval\n",
    "\n",
    "\n",
    "  summary:\n",
    "    terminal: true\n",
    "\n",
    "    after:\n",
    "      - metrics\n",
    "\n",
    "    members:\n",
    "      - name: metrics\n",
    "        repo: omnibenchmark/iris_example/irirs-summary-metrics\n",
    "```\n",
    "\n",
    "**Do note**: this file is equivalent to the current [gitlab-ci.yaml](https://gitlab.renkulab.io/omnibenchmark/iris_example/iris-orchestrator/-/blob/master/.gitlab-ci.yml#L21) in the orchestrator module (we can generate that from this one)."
   ]
  },
  {
   "cell_type": "code",
   "execution_count": 4,
   "id": "07493136-8966-472a-9064-162141e41129",
   "metadata": {},
   "outputs": [
    {
     "data": {
      "image/png": "[encoded data removed]",
      "text/plain": [
       "<Figure size 640x480 with 1 Axes>"
      ]
     },
     "metadata": {},
     "output_type": "display_data"
    }
   ],
   "source": [
    "BENCHMARK_FILE='iris-benchmark.yaml'\n",
    "\n",
    "from bench import build_dag_from_definition, plot_graph\n",
    "\n",
    "g = build_dag_from_definition(BENCHMARK_FILE)\n",
    "plot_graph(g)\n"
   ]
  },
  {
   "cell_type": "markdown",
   "id": "3031618e-1749-4f70-ba0d-3e75bad2cf7f",
   "metadata": {},
   "source": [
    "Ok, now let's build a state machine to know when can we proceed to the next step..."
   ]
  },
  {
   "cell_type": "code",
   "execution_count": 5,
   "id": "5a1e416d-0797-4bd3-aab2-9b9439b524be",
   "metadata": {},
   "outputs": [
    {
     "name": "stdout",
     "output_type": "stream",
     "text": [
      "current: data\n",
      "exited: data\n",
      "entered: parameters\n",
      "parameters\n",
      "exited: parameters\n",
      "entered: methods\n",
      "exited: methods\n",
      "entered: metrics\n",
      "exited: metrics\n",
      "entered: summary\n"
     ]
    }
   ],
   "source": [
    "from importlib import reload\n",
    "import machine\n",
    "reload(machine)\n",
    "sm = machine.state_machine_from_graph(g)\n",
    "\n",
    "print(\"current:\", sm.state)\n",
    "sm.data_to_parameters()\n",
    "assert(sm.state == \"parameters\")\n",
    "sm.parameters_to_methods()\n",
    "assert(sm.state == \"parameters\")\n",
    "print(sm.state)          # stuck because waiting for process\n",
    "sm.done_state('process') # we're helping getting unstuck here, simulating external event\n",
    "sm.parameters_to_methods()\n",
    "assert(sm.state == \"methods\")\n",
    "sm.methods_to_metrics()\n",
    "assert(sm.state == \"metrics\")\n",
    "sm.metrics_to_summary()\n",
    "assert(sm.state == \"summary\")\n"
   ]
  },
  {
   "cell_type": "markdown",
   "id": "6776c56c-c766-4450-8e4f-20921f527c8c",
   "metadata": {},
   "source": [
    "Ok, the state machine sort of works (however the transition needs to wait for a semaphore-like condition on states that have branched). It would be more natural if we can just specify branching properly, like this perhaps:"
   ]
  },
  {
   "cell_type": "code",
   "execution_count": 12,
   "id": "c001b6c6-fc12-4d90-bc68-ff87476a0db8",
   "metadata": {},
   "outputs": [
    {
     "name": "stdout",
     "output_type": "stream",
     "text": [
      "exited: data\n",
      "entered: process\n",
      "oh no! we're stuck in state: process\n",
      "waiting for: parameters\n",
      "state parameters has been marked done, can we move on now?\n",
      "exited: process\n",
      "entered: methods\n",
      "exited: methods\n",
      "entered: metrics\n",
      "exited: metrics\n",
      "entered: summary\n",
      "we're done!\n"
     ]
    },
    {
     "data": {
      "text/plain": [
       "True"
      ]
     },
     "execution_count": 12,
     "metadata": {},
     "output_type": "execute_result"
    }
   ],
   "source": [
    "from importlib import reload\n",
    "import machine\n",
    "reload(machine)\n",
    "\n",
    "sm = machine.state_machine_from_graph(g)\n",
    "sm.state\n",
    "sm.advance()\n",
    "sm.state\n",
    "ok = sm.advance()\n",
    "\n",
    "if not ok:\n",
    "    print(f\"oh no! we're stuck in state: {sm.state}\")\n",
    "    pending = list(sm.waiting_on())\n",
    "\n",
    "    needed = pending[0]\n",
    "    print(f\"waiting for: {needed}\")\n",
    "    sm.done_state(needed)\n",
    "    print(f\"state {needed} has been marked done, can we move on now?\")\n",
    "    \n",
    "assert(sm.advance() == True)\n",
    "\n",
    "# now we should be able to advance the state machine till the end\n",
    "sm.advance()\n",
    "sm.advance()\n",
    "sm.advance()"
   ]
  },
  {
   "cell_type": "markdown",
   "id": "2c9e20bc-0559-4b9d-b70c-db412becf0b3",
   "metadata": {},
   "source": [
    "This is cool! It basically means that we don't have to hardcode a single dependency graph anymore, but rather we can just express `after` dependencies in the yaml file, and construct an object with a state machine, and advance the state to whatever state we're waiting on. This is basically the internal state of the orchestrator.\n",
    "\n",
    "Some of these states we want to launch and wait on, but some others we can just wait for indefinite periods of time (and possibly timeout if we'd no longer wait for them).\n"
   ]
  },
  {
   "cell_type": "code",
   "execution_count": null,
   "id": "41602958-5b56-48d5-b248-17cd543f8200",
   "metadata": {},
   "outputs": [],
   "source": []
  }
 ],
 "metadata": {
  "kernelspec": {
   "display_name": "Python 3 (ipykernel)",
   "language": "python",
   "name": "python3"
  },
  "language_info": {
   "codemirror_mode": {
    "name": "ipython",
    "version": 3
   },
   "file_extension": ".py",
   "mimetype": "text/x-python",
   "name": "python",
   "nbconvert_exporter": "python",
   "pygments_lexer": "ipython3",
   "version": "3.11.6"
  }
 },
 "nbformat": 4,
 "nbformat_minor": 5
}
